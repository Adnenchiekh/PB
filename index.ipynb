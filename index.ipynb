{
 "cells": [
  {
   "cell_type": "code",
   "execution_count": 1,
   "metadata": {},
   "outputs": [],
   "source": [
    "import pandas as pd \n"
   ]
  },
  {
   "cell_type": "code",
   "execution_count": 14,
   "metadata": {},
   "outputs": [],
   "source": [
    "import matplotlib.pyplot as plt\n",
    "import numpy as np\n"
   ]
  },
  {
   "cell_type": "code",
   "execution_count": 6,
   "metadata": {},
   "outputs": [],
   "source": [
    "df = pd.read_csv(\"data/nba_players_shooting.csv\")"
   ]
  },
  {
   "cell_type": "code",
   "execution_count": 8,
   "metadata": {},
   "outputs": [
    {
     "name": "stdout",
     "output_type": "stream",
     "text": [
      "<class 'pandas.core.frame.DataFrame'>\n",
      "RangeIndex: 776 entries, 0 to 775\n",
      "Data columns (total 7 columns):\n",
      " #   Column    Non-Null Count  Dtype  \n",
      "---  ------    --------------  -----  \n",
      " 0   INDEX     776 non-null    int64  \n",
      " 1   SHOOTER   776 non-null    object \n",
      " 2   X         776 non-null    float64\n",
      " 3   Y         776 non-null    float64\n",
      " 4   RANGE     776 non-null    object \n",
      " 5   DEFENDER  776 non-null    object \n",
      " 6   SCORE     776 non-null    object \n",
      "dtypes: float64(2), int64(1), object(4)\n",
      "memory usage: 42.6+ KB\n"
     ]
    }
   ],
   "source": [
    "df.head()\n",
    "df.info()"
   ]
  },
  {
   "cell_type": "code",
   "execution_count": 13,
   "metadata": {},
   "outputs": [
    {
     "name": "stdout",
     "output_type": "stream",
     "text": [
      "|    |   INDEX | SHOOTER    |         X |       Y | RANGE   | DEFENDER   | SCORE   |\n",
      "|---:|--------:|:-----------|----------:|--------:|:--------|:-----------|:--------|\n",
      "|  0 |       0 | Seth Curry | -3.80899  | 5.58362 | (0, 4)  | Chris Paul | MADE    |\n",
      "|  1 |       1 | Seth Curry | -0.104279 | 5.91914 | (0, 4)  | Trae Young | MADE    |\n",
      "|  2 |       2 | Seth Curry | -0.525864 | 8.91224 | (0, 4)  | Trae Young | MADE    |\n",
      "|  3 |       3 | Seth Curry | -0.790616 | 7.50378 | (0, 4)  | Chris Paul | MADE    |\n",
      "|  4 |       4 | Seth Curry |  2.11907  | 5.32053 | (0, 4)  | Trae Young | MADE    |\n"
     ]
    }
   ],
   "source": [
    "print(df.head().to_markdown())"
   ]
  },
  {
   "cell_type": "code",
   "execution_count": null,
   "metadata": {},
   "outputs": [],
   "source": []
  }
 ],
 "metadata": {
  "kernelspec": {
   "display_name": "Python 3.9.12 ('base')",
   "language": "python",
   "name": "python3"
  },
  "language_info": {
   "codemirror_mode": {
    "name": "ipython",
    "version": 3
   },
   "file_extension": ".py",
   "mimetype": "text/x-python",
   "name": "python",
   "nbconvert_exporter": "python",
   "pygments_lexer": "ipython3",
   "version": "3.9.12"
  },
  "orig_nbformat": 4,
  "vscode": {
   "interpreter": {
    "hash": "ad2bdc8ecc057115af97d19610ffacc2b4e99fae6737bb82f5d7fb13d2f2c186"
   }
  }
 },
 "nbformat": 4,
 "nbformat_minor": 2
}
